{
 "cells": [
  {
   "cell_type": "code",
   "execution_count": 1,
   "id": "61a13c09-b665-4c56-a412-3f20aa2b743a",
   "metadata": {},
   "outputs": [
    {
     "name": "stdout",
     "output_type": "stream",
     "text": [
      "Generated Password: C2#P>U6B)!1j\n",
      "Generated Password (no special chars): 2n174FG3uyAcnaDG\n"
     ]
    }
   ],
   "source": [
    "import secrets\n",
    "import string\n",
    "\n",
    "def generate_password(length=12, use_uppercase=True, use_lowercase=True, use_numbers=True, use_special=True):\n",
    "    if length < 8:\n",
    "        length = 8\n",
    "        print(\"Warning: Password length set to minimum of 8 for security.\")\n",
    "    uppercase_chars = string.ascii_uppercase if use_uppercase else \"\"\n",
    "    lowercase_chars = string.ascii_lowercase if use_lowercase else \"\"\n",
    "    number_chars = string.digits if use_numbers else \"\"\n",
    "    special_chars = string.punctuation if use_special else \"\"\n",
    "    all_chars = uppercase_chars + lowercase_chars + number_chars + special_chars\n",
    "    password_chars = []\n",
    "    if use_uppercase:\n",
    "        password_chars.append(secrets.choice(uppercase_chars))\n",
    "    if use_lowercase:\n",
    "        password_chars.append(secrets.choice(lowercase_chars))\n",
    "    if use_numbers:\n",
    "        password_chars.append(secrets.choice(number_chars))\n",
    "    if use_special:\n",
    "        password_chars.append(secrets.choice(special_chars))\n",
    "    if not all_chars:\n",
    "        raise ValueError(\"At least one character type must be selected.\")\n",
    "    for _ in range(length - len(password_chars)):\n",
    "        password_chars.append(secrets.choice(all_chars))\n",
    "    secrets.SystemRandom().shuffle(password_chars)\n",
    "    return ''.join(password_chars)\n",
    "\n",
    "if __name__ == \"__main__\":\n",
    "    try:\n",
    "        password = generate_password(\n",
    "            length=12,\n",
    "            use_uppercase=True,\n",
    "            use_lowercase=True,\n",
    "            use_numbers=True,\n",
    "            use_special=True\n",
    "        )\n",
    "        print(f\"Generated Password: {password}\")\n",
    "        password2 = generate_password(\n",
    "            length=16,\n",
    "            use_uppercase=True,\n",
    "            use_lowercase=True,\n",
    "            use_numbers=True,\n",
    "            use_special=False\n",
    "        )\n",
    "        print(f\"Generated Password (no special chars): {password2}\")\n",
    "    except ValueError as e:\n",
    "        print(f\"Error: {e}\")"
   ]
  },
  {
   "cell_type": "code",
   "execution_count": null,
   "id": "48577f78-bf3c-4c7c-bc6f-49c0a2a36f12",
   "metadata": {},
   "outputs": [],
   "source": []
  }
 ],
 "metadata": {
  "kernelspec": {
   "display_name": "Python 3 (ipykernel)",
   "language": "python",
   "name": "python3"
  },
  "language_info": {
   "codemirror_mode": {
    "name": "ipython",
    "version": 3
   },
   "file_extension": ".py",
   "mimetype": "text/x-python",
   "name": "python",
   "nbconvert_exporter": "python",
   "pygments_lexer": "ipython3",
   "version": "3.13.1"
  }
 },
 "nbformat": 4,
 "nbformat_minor": 5
}
